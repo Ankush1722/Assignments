{
 "cells": [
  {
   "cell_type": "code",
   "execution_count": 61,
   "metadata": {},
   "outputs": [],
   "source": [
    "# Ankushdeep Singh_102003174\n",
    "# ass5_1"
   ]
  },
  {
   "cell_type": "code",
   "execution_count": 62,
   "metadata": {},
   "outputs": [],
   "source": [
    "import numpy as np\n",
    "import pandas as pd\n",
    "import random"
   ]
  },
  {
   "cell_type": "code",
   "execution_count": 63,
   "metadata": {},
   "outputs": [],
   "source": [
    "def generateParents(size=4, population=4):\n",
    "    parents = np.array(2**size - 1)\n",
    "    parents = np.append(parents, 2**size - 8)\n",
    "    parents = np.append(parents, 2**size - 6)\n",
    "    parents = np.append(parents, 2**size - 7)\n",
    "    print(\"INITIAL population: \",parents)\n",
    "    return parents"
   ]
  },
  {
   "cell_type": "code",
   "execution_count": 64,
   "metadata": {},
   "outputs": [],
   "source": [
    "def totalSize(data, size):\n",
    "    s = 0\n",
    "    for i in range(0, size - 1):\n",
    "        if data & (1 << i) > 0:\n",
    "            s = s + weights[i]\n",
    "    return s"
   ]
  },
  {
   "cell_type": "code",
   "execution_count": 65,
   "metadata": {},
   "outputs": [],
   "source": [
    "def reduceSize(rec, size):\n",
    "    while totalSize(rec, size) > 100:\n",
    "        index = random.randint(0, size - 1)\n",
    "        if rec & (1 << index) > 0:\n",
    "            rec = rec ^ (1 << index)\n",
    "    return rec"
   ]
  },
  {
   "cell_type": "code",
   "execution_count": 66,
   "metadata": {},
   "outputs": [],
   "source": [
    "def mutate(rec, size, index):\n",
    "    rec = rec ^ (1 << index)\n",
    "    return rec"
   ]
  },
  {
   "cell_type": "code",
   "execution_count": 67,
   "metadata": {},
   "outputs": [],
   "source": [
    "def crossover(mom, dad, size, m_index):\n",
    "    index = 2\n",
    "    mom1 = mom & (2**index - 1)\n",
    "    mom2 = mom & ((2 ** (size - index) - 1) << index)\n",
    "    dad1 = dad & (2**index - 1)\n",
    "    dad2 = dad & ((2 ** (size - index) - 1) << index)\n",
    "    return mutate(mom1 | dad2, size, m_index), (dad1 | mom2)"
   ]
  },
  {
   "cell_type": "code",
   "execution_count": 68,
   "metadata": {},
   "outputs": [],
   "source": [
    "def newGeneration(generation, size, m_index):\n",
    "    last_2 = generation[2:, 0]\n",
    "    newGen = generation[:2, 0]\n",
    "    for i in range(0, 2):\n",
    "        for j in range(0, 2):\n",
    "            if i != j:\n",
    "                c1, c2 = crossover(last_2[i], last_2[j], size, m_index)\n",
    "                newGen = np.append(newGen, c1)\n",
    "                newGen = np.append(newGen, c2)\n",
    "    return newGen"
   ]
  },
  {
   "cell_type": "code",
   "execution_count": 69,
   "metadata": {},
   "outputs": [],
   "source": [
    "def assign_fitness(data, size):\n",
    "    s = 0\n",
    "    for i in range(0, size - 1):\n",
    "        if data & (1 << i) > 0:\n",
    "            s = s + values[i]\n",
    "    return s"
   ]
  },
  {
   "cell_type": "code",
   "execution_count": 70,
   "metadata": {},
   "outputs": [],
   "source": [
    "def fixChromosomes(data, size, population):\n",
    "    datasize = data.shape[0]\n",
    "    fitness = np.zeros((datasize, 1), dtype=int)\n",
    "    for i in range(0, datasize):\n",
    "        rec = data[i]\n",
    "        if totalSize(rec, size) > 100:\n",
    "            rec = reduceSize(rec, size)\n",
    "            data[i] = rec\n",
    "        fitness[i] = -1 * assign_fitness(data[i], size)\n",
    "    data = np.transpose(np.array([data]))\n",
    "    generation = np.concatenate((data, fitness), axis=1)\n",
    "    generation = generation[generation[:population, 1].argsort()]\n",
    "    return generation"
   ]
  },
  {
   "cell_type": "code",
   "execution_count": 71,
   "metadata": {},
   "outputs": [],
   "source": [
    "def implement_ga(names, weights, values, max_capacity, mutation_order):\n",
    "    population = 4\n",
    "    size = 4\n",
    "    parents = generateParents()\n",
    "    gen = fixChromosomes(parents, size, population)\n",
    "\n",
    "    ind = 0\n",
    "    new_gen = gen\n",
    "    for i in range(9):\n",
    "        new_gen = newGeneration(new_gen, size, mutation_order[ind])\n",
    "        new_gen = fixChromosomes(new_gen, size, population)\n",
    "        ind = ind + 1\n",
    "        if ind == len(mutation_order):\n",
    "            ind = 0\n",
    "\n",
    "    for i in range(4):\n",
    "        chromosome = new_gen[i, 0]\n",
    "        cur_ch = i + 1\n",
    "        print(\"Chromosome \" + str(cur_ch) + \":\")\n",
    "        print(\"Items_selected: \")\n",
    "        for j in range(0, size - 1):\n",
    "            if chromosome & (1 << j) > 0:\n",
    "                print(str(names[j]) + \" \")\n",
    "\n",
    "        print(\"Size: \" + str(totalSize(chromosome, size)))\n",
    "        print(\"Value: \" + str(assign_fitness(chromosome, size)))\n",
    "        print(\"\\n\")"
   ]
  },
  {
   "cell_type": "code",
   "execution_count": 72,
   "metadata": {},
   "outputs": [
    {
     "name": "stdout",
     "output_type": "stream",
     "text": [
      "INITIAL population:  [15  8 10  9]\n",
      "Chromosome 1:\n",
      "Items_selected: \n",
      "B \n",
      "C \n",
      "Size: 90\n",
      "Value: 13\n",
      "\n",
      "\n",
      "Chromosome 2:\n",
      "Items_selected: \n",
      "B \n",
      "C \n",
      "Size: 90\n",
      "Value: 13\n",
      "\n",
      "\n",
      "Chromosome 3:\n",
      "Items_selected: \n",
      "C \n",
      "Size: 50\n",
      "Value: 8\n",
      "\n",
      "\n",
      "Chromosome 4:\n",
      "Items_selected: \n",
      "A \n",
      "Size: 45\n",
      "Value: 3\n",
      "\n",
      "\n"
     ]
    }
   ],
   "source": [
    "names = [\"A\", \"B\", \"C\", \"D\"]\n",
    "weights = [45, 40, 50, 90]\n",
    "values = [3, 5, 8, 10]\n",
    "max_capacity = 100\n",
    "mutation_order = [3, 2, 1, 0]\n",
    "implement_ga(names, weights, values, max_capacity, mutation_order)"
   ]
  }
 ],
 "metadata": {
  "kernelspec": {
   "display_name": "Python 3",
   "language": "python",
   "name": "python3"
  },
  "language_info": {
   "codemirror_mode": {
    "name": "ipython",
    "version": 3
   },
   "file_extension": ".py",
   "mimetype": "text/x-python",
   "name": "python",
   "nbconvert_exporter": "python",
   "pygments_lexer": "ipython3",
   "version": "3.11.4"
  },
  "orig_nbformat": 4
 },
 "nbformat": 4,
 "nbformat_minor": 2
}
