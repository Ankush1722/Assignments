{
 "cells": [
  {
   "cell_type": "code",
   "execution_count": 1,
   "metadata": {},
   "outputs": [],
   "source": [
    "# Ankushdeep Singh_102003174\n",
    "# ass5_3"
   ]
  },
  {
   "cell_type": "code",
   "execution_count": 2,
   "metadata": {},
   "outputs": [],
   "source": [
    "import random\n",
    "import math"
   ]
  },
  {
   "cell_type": "code",
   "execution_count": 3,
   "metadata": {},
   "outputs": [],
   "source": [
    "def evaluate_solution(solution):\n",
    "    clauses = [(~solution[0] | solution[3]), (solution[2] | solution[1]), (~solution[2] | ~solution[3]), (~solution[3] | ~solution[1]), (~solution[0] | ~solution[3])]\n",
    "    num_satisfied = sum(clauses)\n",
    "    return num_satisfied"
   ]
  },
  {
   "cell_type": "code",
   "execution_count": 4,
   "metadata": {},
   "outputs": [],
   "source": [
    "def movegen(solution):\n",
    "    random_variable = random.randint(0, 3)\n",
    "    solution[random_variable] = 1 - solution[random_variable]  # Flipping the value of the selected variable\n",
    "    return solution"
   ]
  },
  {
   "cell_type": "code",
   "execution_count": 5,
   "metadata": {},
   "outputs": [],
   "source": [
    "def accept_bad_move(energy_diff, temperature):\n",
    "    probability = math.exp(energy_diff / temperature)\n",
    "    return random.random() < probability"
   ]
  },
  {
   "cell_type": "code",
   "execution_count": 6,
   "metadata": {},
   "outputs": [],
   "source": [
    "def simulated_annealing(initial_solution, temperature, cooling_rate):\n",
    "    current_solution = initial_solution.copy()\n",
    "    current_energy = evaluate_solution(current_solution)\n",
    "    best_solution = current_solution.copy()\n",
    "    best_energy = current_energy\n",
    "\n",
    "    while temperature > 0:\n",
    "        new_solution = movegen(current_solution)\n",
    "        new_energy = evaluate_solution(new_solution)\n",
    "        energy_diff = new_energy - current_energy\n",
    "\n",
    "        if energy_diff >= 0 or accept_bad_move(energy_diff, temperature):\n",
    "            current_solution = new_solution.copy()\n",
    "            current_energy = new_energy\n",
    "\n",
    "        if current_energy > best_energy:\n",
    "            best_solution = current_solution.copy()\n",
    "            best_energy = current_energy\n",
    "\n",
    "        temperature -= cooling_rate\n",
    "\n",
    "    return best_solution"
   ]
  },
  {
   "cell_type": "code",
   "execution_count": 7,
   "metadata": {},
   "outputs": [
    {
     "name": "stdout",
     "output_type": "stream",
     "text": [
      "Best solution: [0, 0, 1, 0]\n",
      "Number of clauses satisfied: -3\n"
     ]
    }
   ],
   "source": [
    "random_numbers = [0.655, 0.254, 0.432]\n",
    "initial_solution = [1, 1, 1, 1]\n",
    "temperature = 500\n",
    "cooling_rate = 50\n",
    "\n",
    "random_number_index = 0\n",
    "\n",
    "best_solution = simulated_annealing(initial_solution, temperature, cooling_rate)\n",
    "\n",
    "print(\"Best solution:\", best_solution)\n",
    "print(\"Number of clauses satisfied:\", evaluate_solution(best_solution))\n"
   ]
  }
 ],
 "metadata": {
  "kernelspec": {
   "display_name": "Python 3",
   "language": "python",
   "name": "python3"
  },
  "language_info": {
   "codemirror_mode": {
    "name": "ipython",
    "version": 3
   },
   "file_extension": ".py",
   "mimetype": "text/x-python",
   "name": "python",
   "nbconvert_exporter": "python",
   "pygments_lexer": "ipython3",
   "version": "3.11.4"
  },
  "orig_nbformat": 4
 },
 "nbformat": 4,
 "nbformat_minor": 2
}
