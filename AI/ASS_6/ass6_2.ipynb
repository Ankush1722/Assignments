{
 "cells": [
  {
   "cell_type": "code",
   "execution_count": null,
   "metadata": {},
   "outputs": [],
   "source": [
    "# Ankushdeep Singh_102003174\n",
    "# ass6_2"
   ]
  },
  {
   "cell_type": "code",
   "execution_count": 106,
   "metadata": {},
   "outputs": [],
   "source": [
    "import random\n",
    "import pandas as pd\n",
    "import numpy as np\n",
    "import matplotlib.pyplot as plt\n",
    "from sklearn.naive_bayes import GaussianNB\n",
    "\n",
    "from sklearn.model_selection import train_test_split\n",
    "from sklearn.metrics import accuracy_score\n",
    "from sklearn.metrics import classification_report, confusion_matrix"
   ]
  },
  {
   "cell_type": "code",
   "execution_count": 107,
   "metadata": {},
   "outputs": [],
   "source": [
    "rows=25"
   ]
  },
  {
   "cell_type": "code",
   "execution_count": 108,
   "metadata": {},
   "outputs": [
    {
     "data": {
      "text/plain": [
       "array([87.4719654 , 54.4832545 , 50.89261741, 78.13106602, 76.86634042,\n",
       "       53.47071663, 89.36949073, 99.09214699, 55.65517438, 40.94944071,\n",
       "       91.45305186, 73.17771683, 79.61062386, 78.79051707, 78.17830949,\n",
       "       42.1154976 , 43.23853288, 78.16131908, 54.92873463, 82.33215804,\n",
       "       45.70910472, 78.03835255, 70.960917  , 74.6598852 , 53.89194246])"
      ]
     },
     "execution_count": 108,
     "metadata": {},
     "output_type": "execute_result"
    }
   ],
   "source": [
    "max_percent=100\n",
    "r=np.random.rand(1)\n",
    "while r<0.4:\n",
    "    r=np.random.rand(1)\n",
    "\n",
    "grad_percent=np.array(max_percent*r)\n",
    "for i in range(rows-1):\n",
    "    r=np.random.rand(1)\n",
    "    while r<0.4:\n",
    "        r= np.random.rand(1)\n",
    "    grad_percent=np.append(grad_percent,max_percent*r)\n",
    "    \n",
    "grad_percent"
   ]
  },
  {
   "cell_type": "code",
   "execution_count": 109,
   "metadata": {},
   "outputs": [
    {
     "data": {
      "text/plain": [
       "array([ 6,  4,  8,  5,  5,  3,  3,  8,  6,  4,  7,  4,  7,  3,  7,  3,  7,\n",
       "        6,  4,  2,  4,  9,  3, 10,  5])"
      ]
     },
     "execution_count": 109,
     "metadata": {},
     "output_type": "execute_result"
    }
   ],
   "source": [
    "experience=np.array(random.randint(1,10))\n",
    "for i in range(rows-1):\n",
    "    experience=np.append(experience,random.randint(1,10))   \n",
    "experience"
   ]
  },
  {
   "cell_type": "code",
   "execution_count": 110,
   "metadata": {},
   "outputs": [
    {
     "data": {
      "text/plain": [
       "array([ 5,  9,  9,  3,  2,  5,  5,  2, 10,  6,  3,  2,  6,  4,  8,  1,  3,\n",
       "        3,  5, 10,  2, 10,  8,  6,  4])"
      ]
     },
     "execution_count": 110,
     "metadata": {},
     "output_type": "execute_result"
    }
   ],
   "source": [
    "written_score=np.array(random.randint(1,10))\n",
    "for i in range(rows-1):\n",
    "    written_score=np.append(written_score,random.randint(1,10))   \n",
    "written_score"
   ]
  },
  {
   "cell_type": "code",
   "execution_count": 111,
   "metadata": {},
   "outputs": [
    {
     "data": {
      "text/plain": [
       "array([ 1,  6, 10,  2,  2,  5,  2,  1,  1,  8,  8, 10,  7,  3,  8,  9,  9,\n",
       "        4, 10,  9,  3,  5,  5,  2,  2])"
      ]
     },
     "execution_count": 111,
     "metadata": {},
     "output_type": "execute_result"
    }
   ],
   "source": [
    "interview_score=np.array(random.randint(1,10))\n",
    "for i in range(rows-1):\n",
    "    interview_score=np.append(interview_score,random.randint(1,10))   \n",
    "interview_score"
   ]
  },
  {
   "cell_type": "code",
   "execution_count": 112,
   "metadata": {},
   "outputs": [
    {
     "data": {
      "text/plain": [
       "array([1, 1, 0, 1, 1, 0, 1, 0, 1, 1, 1, 1, 1, 0, 1, 0, 1, 1, 1, 0, 0, 0,\n",
       "       0, 1, 1])"
      ]
     },
     "execution_count": 112,
     "metadata": {},
     "output_type": "execute_result"
    }
   ],
   "source": [
    "selection=np.array(random.randint(0,1),dtype=int)\n",
    "for i in range(rows-1):\n",
    "    selection=np.append(selection,random.randint(0,1))   \n",
    "selection"
   ]
  },
  {
   "cell_type": "code",
   "execution_count": 113,
   "metadata": {},
   "outputs": [
    {
     "data": {
      "text/plain": [
       "array([[87.4719654 , 54.4832545 , 50.89261741, 78.13106602, 76.86634042,\n",
       "        53.47071663, 89.36949073, 99.09214699, 55.65517438, 40.94944071,\n",
       "        91.45305186, 73.17771683, 79.61062386, 78.79051707, 78.17830949,\n",
       "        42.1154976 , 43.23853288, 78.16131908, 54.92873463, 82.33215804,\n",
       "        45.70910472, 78.03835255, 70.960917  , 74.6598852 , 53.89194246],\n",
       "       [ 6.        ,  4.        ,  8.        ,  5.        ,  5.        ,\n",
       "         3.        ,  3.        ,  8.        ,  6.        ,  4.        ,\n",
       "         7.        ,  4.        ,  7.        ,  3.        ,  7.        ,\n",
       "         3.        ,  7.        ,  6.        ,  4.        ,  2.        ,\n",
       "         4.        ,  9.        ,  3.        , 10.        ,  5.        ],\n",
       "       [ 5.        ,  9.        ,  9.        ,  3.        ,  2.        ,\n",
       "         5.        ,  5.        ,  2.        , 10.        ,  6.        ,\n",
       "         3.        ,  2.        ,  6.        ,  4.        ,  8.        ,\n",
       "         1.        ,  3.        ,  3.        ,  5.        , 10.        ,\n",
       "         2.        , 10.        ,  8.        ,  6.        ,  4.        ],\n",
       "       [ 1.        ,  6.        , 10.        ,  2.        ,  2.        ,\n",
       "         5.        ,  2.        ,  1.        ,  1.        ,  8.        ,\n",
       "         8.        , 10.        ,  7.        ,  3.        ,  8.        ,\n",
       "         9.        ,  9.        ,  4.        , 10.        ,  9.        ,\n",
       "         3.        ,  5.        ,  5.        ,  2.        ,  2.        ],\n",
       "       [ 1.        ,  1.        ,  0.        ,  1.        ,  1.        ,\n",
       "         0.        ,  1.        ,  0.        ,  1.        ,  1.        ,\n",
       "         1.        ,  1.        ,  1.        ,  0.        ,  1.        ,\n",
       "         0.        ,  1.        ,  1.        ,  1.        ,  0.        ,\n",
       "         0.        ,  0.        ,  0.        ,  1.        ,  1.        ]])"
      ]
     },
     "execution_count": 113,
     "metadata": {},
     "output_type": "execute_result"
    }
   ],
   "source": [
    "data = np.array((grad_percent,experience,written_score,interview_score,selection)) \n",
    "data"
   ]
  },
  {
   "cell_type": "code",
   "execution_count": 114,
   "metadata": {},
   "outputs": [
    {
     "data": {
      "text/html": [
       "<div>\n",
       "<style scoped>\n",
       "    .dataframe tbody tr th:only-of-type {\n",
       "        vertical-align: middle;\n",
       "    }\n",
       "\n",
       "    .dataframe tbody tr th {\n",
       "        vertical-align: top;\n",
       "    }\n",
       "\n",
       "    .dataframe thead th {\n",
       "        text-align: right;\n",
       "    }\n",
       "</style>\n",
       "<table border=\"1\" class=\"dataframe\">\n",
       "  <thead>\n",
       "    <tr style=\"text-align: right;\">\n",
       "      <th></th>\n",
       "      <th>grad_percent</th>\n",
       "      <th>experience</th>\n",
       "      <th>written_score</th>\n",
       "      <th>interview_score</th>\n",
       "      <th>selection</th>\n",
       "    </tr>\n",
       "  </thead>\n",
       "  <tbody>\n",
       "    <tr>\n",
       "      <th>0</th>\n",
       "      <td>87.471965</td>\n",
       "      <td>6.0</td>\n",
       "      <td>5.0</td>\n",
       "      <td>1.0</td>\n",
       "      <td>1</td>\n",
       "    </tr>\n",
       "    <tr>\n",
       "      <th>1</th>\n",
       "      <td>54.483254</td>\n",
       "      <td>4.0</td>\n",
       "      <td>9.0</td>\n",
       "      <td>6.0</td>\n",
       "      <td>1</td>\n",
       "    </tr>\n",
       "    <tr>\n",
       "      <th>2</th>\n",
       "      <td>50.892617</td>\n",
       "      <td>8.0</td>\n",
       "      <td>9.0</td>\n",
       "      <td>10.0</td>\n",
       "      <td>0</td>\n",
       "    </tr>\n",
       "    <tr>\n",
       "      <th>3</th>\n",
       "      <td>78.131066</td>\n",
       "      <td>5.0</td>\n",
       "      <td>3.0</td>\n",
       "      <td>2.0</td>\n",
       "      <td>1</td>\n",
       "    </tr>\n",
       "    <tr>\n",
       "      <th>4</th>\n",
       "      <td>76.866340</td>\n",
       "      <td>5.0</td>\n",
       "      <td>2.0</td>\n",
       "      <td>2.0</td>\n",
       "      <td>1</td>\n",
       "    </tr>\n",
       "    <tr>\n",
       "      <th>5</th>\n",
       "      <td>53.470717</td>\n",
       "      <td>3.0</td>\n",
       "      <td>5.0</td>\n",
       "      <td>5.0</td>\n",
       "      <td>0</td>\n",
       "    </tr>\n",
       "    <tr>\n",
       "      <th>6</th>\n",
       "      <td>89.369491</td>\n",
       "      <td>3.0</td>\n",
       "      <td>5.0</td>\n",
       "      <td>2.0</td>\n",
       "      <td>1</td>\n",
       "    </tr>\n",
       "    <tr>\n",
       "      <th>7</th>\n",
       "      <td>99.092147</td>\n",
       "      <td>8.0</td>\n",
       "      <td>2.0</td>\n",
       "      <td>1.0</td>\n",
       "      <td>0</td>\n",
       "    </tr>\n",
       "    <tr>\n",
       "      <th>8</th>\n",
       "      <td>55.655174</td>\n",
       "      <td>6.0</td>\n",
       "      <td>10.0</td>\n",
       "      <td>1.0</td>\n",
       "      <td>1</td>\n",
       "    </tr>\n",
       "    <tr>\n",
       "      <th>9</th>\n",
       "      <td>40.949441</td>\n",
       "      <td>4.0</td>\n",
       "      <td>6.0</td>\n",
       "      <td>8.0</td>\n",
       "      <td>1</td>\n",
       "    </tr>\n",
       "    <tr>\n",
       "      <th>10</th>\n",
       "      <td>91.453052</td>\n",
       "      <td>7.0</td>\n",
       "      <td>3.0</td>\n",
       "      <td>8.0</td>\n",
       "      <td>1</td>\n",
       "    </tr>\n",
       "    <tr>\n",
       "      <th>11</th>\n",
       "      <td>73.177717</td>\n",
       "      <td>4.0</td>\n",
       "      <td>2.0</td>\n",
       "      <td>10.0</td>\n",
       "      <td>1</td>\n",
       "    </tr>\n",
       "    <tr>\n",
       "      <th>12</th>\n",
       "      <td>79.610624</td>\n",
       "      <td>7.0</td>\n",
       "      <td>6.0</td>\n",
       "      <td>7.0</td>\n",
       "      <td>1</td>\n",
       "    </tr>\n",
       "    <tr>\n",
       "      <th>13</th>\n",
       "      <td>78.790517</td>\n",
       "      <td>3.0</td>\n",
       "      <td>4.0</td>\n",
       "      <td>3.0</td>\n",
       "      <td>0</td>\n",
       "    </tr>\n",
       "    <tr>\n",
       "      <th>14</th>\n",
       "      <td>78.178309</td>\n",
       "      <td>7.0</td>\n",
       "      <td>8.0</td>\n",
       "      <td>8.0</td>\n",
       "      <td>1</td>\n",
       "    </tr>\n",
       "    <tr>\n",
       "      <th>15</th>\n",
       "      <td>42.115498</td>\n",
       "      <td>3.0</td>\n",
       "      <td>1.0</td>\n",
       "      <td>9.0</td>\n",
       "      <td>0</td>\n",
       "    </tr>\n",
       "    <tr>\n",
       "      <th>16</th>\n",
       "      <td>43.238533</td>\n",
       "      <td>7.0</td>\n",
       "      <td>3.0</td>\n",
       "      <td>9.0</td>\n",
       "      <td>1</td>\n",
       "    </tr>\n",
       "    <tr>\n",
       "      <th>17</th>\n",
       "      <td>78.161319</td>\n",
       "      <td>6.0</td>\n",
       "      <td>3.0</td>\n",
       "      <td>4.0</td>\n",
       "      <td>1</td>\n",
       "    </tr>\n",
       "    <tr>\n",
       "      <th>18</th>\n",
       "      <td>54.928735</td>\n",
       "      <td>4.0</td>\n",
       "      <td>5.0</td>\n",
       "      <td>10.0</td>\n",
       "      <td>1</td>\n",
       "    </tr>\n",
       "    <tr>\n",
       "      <th>19</th>\n",
       "      <td>82.332158</td>\n",
       "      <td>2.0</td>\n",
       "      <td>10.0</td>\n",
       "      <td>9.0</td>\n",
       "      <td>0</td>\n",
       "    </tr>\n",
       "    <tr>\n",
       "      <th>20</th>\n",
       "      <td>45.709105</td>\n",
       "      <td>4.0</td>\n",
       "      <td>2.0</td>\n",
       "      <td>3.0</td>\n",
       "      <td>0</td>\n",
       "    </tr>\n",
       "    <tr>\n",
       "      <th>21</th>\n",
       "      <td>78.038353</td>\n",
       "      <td>9.0</td>\n",
       "      <td>10.0</td>\n",
       "      <td>5.0</td>\n",
       "      <td>0</td>\n",
       "    </tr>\n",
       "    <tr>\n",
       "      <th>22</th>\n",
       "      <td>70.960917</td>\n",
       "      <td>3.0</td>\n",
       "      <td>8.0</td>\n",
       "      <td>5.0</td>\n",
       "      <td>0</td>\n",
       "    </tr>\n",
       "    <tr>\n",
       "      <th>23</th>\n",
       "      <td>74.659885</td>\n",
       "      <td>10.0</td>\n",
       "      <td>6.0</td>\n",
       "      <td>2.0</td>\n",
       "      <td>1</td>\n",
       "    </tr>\n",
       "    <tr>\n",
       "      <th>24</th>\n",
       "      <td>53.891942</td>\n",
       "      <td>5.0</td>\n",
       "      <td>4.0</td>\n",
       "      <td>2.0</td>\n",
       "      <td>1</td>\n",
       "    </tr>\n",
       "  </tbody>\n",
       "</table>\n",
       "</div>"
      ],
      "text/plain": [
       "    grad_percent  experience  written_score  interview_score  selection\n",
       "0      87.471965         6.0            5.0              1.0          1\n",
       "1      54.483254         4.0            9.0              6.0          1\n",
       "2      50.892617         8.0            9.0             10.0          0\n",
       "3      78.131066         5.0            3.0              2.0          1\n",
       "4      76.866340         5.0            2.0              2.0          1\n",
       "5      53.470717         3.0            5.0              5.0          0\n",
       "6      89.369491         3.0            5.0              2.0          1\n",
       "7      99.092147         8.0            2.0              1.0          0\n",
       "8      55.655174         6.0           10.0              1.0          1\n",
       "9      40.949441         4.0            6.0              8.0          1\n",
       "10     91.453052         7.0            3.0              8.0          1\n",
       "11     73.177717         4.0            2.0             10.0          1\n",
       "12     79.610624         7.0            6.0              7.0          1\n",
       "13     78.790517         3.0            4.0              3.0          0\n",
       "14     78.178309         7.0            8.0              8.0          1\n",
       "15     42.115498         3.0            1.0              9.0          0\n",
       "16     43.238533         7.0            3.0              9.0          1\n",
       "17     78.161319         6.0            3.0              4.0          1\n",
       "18     54.928735         4.0            5.0             10.0          1\n",
       "19     82.332158         2.0           10.0              9.0          0\n",
       "20     45.709105         4.0            2.0              3.0          0\n",
       "21     78.038353         9.0           10.0              5.0          0\n",
       "22     70.960917         3.0            8.0              5.0          0\n",
       "23     74.659885        10.0            6.0              2.0          1\n",
       "24     53.891942         5.0            4.0              2.0          1"
      ]
     },
     "execution_count": 114,
     "metadata": {},
     "output_type": "execute_result"
    }
   ],
   "source": [
    "df = pd.DataFrame(data.transpose(),columns=['grad_percent','experience','written_score','interview_score','selection'])\n",
    "df=df.astype({'selection':int})\n",
    "df"
   ]
  },
  {
   "cell_type": "code",
   "execution_count": 115,
   "metadata": {},
   "outputs": [],
   "source": [
    "x = df.loc[:,df.columns!='selection']         \n",
    "y = df['selection']\n",
    "\n",
    "x_train, x_test, y_train, y_test = train_test_split(x, y, test_size=0.2,random_state=3)"
   ]
  },
  {
   "cell_type": "code",
   "execution_count": 116,
   "metadata": {},
   "outputs": [
    {
     "name": "stdout",
     "output_type": "stream",
     "text": [
      "0.6\n",
      "              precision    recall  f1-score   support\n",
      "\n",
      "           0       0.00      0.00      0.00         1\n",
      "           1       0.75      0.75      0.75         4\n",
      "\n",
      "    accuracy                           0.60         5\n",
      "   macro avg       0.38      0.38      0.38         5\n",
      "weighted avg       0.60      0.60      0.60         5\n",
      "\n"
     ]
    }
   ],
   "source": [
    "gnb = GaussianNB()\n",
    "gnb.fit(x_train, y_train)\n",
    "y_pred = gnb.predict(x_test)\n",
    "\n",
    "print(accuracy_score(y_test, y_pred))\n",
    "print(classification_report(y_test, y_pred))"
   ]
  },
  {
   "cell_type": "code",
   "execution_count": 117,
   "metadata": {},
   "outputs": [
    {
     "data": {
      "text/html": [
       "<div>\n",
       "<style scoped>\n",
       "    .dataframe tbody tr th:only-of-type {\n",
       "        vertical-align: middle;\n",
       "    }\n",
       "\n",
       "    .dataframe tbody tr th {\n",
       "        vertical-align: top;\n",
       "    }\n",
       "\n",
       "    .dataframe thead th {\n",
       "        text-align: right;\n",
       "    }\n",
       "</style>\n",
       "<table border=\"1\" class=\"dataframe\">\n",
       "  <thead>\n",
       "    <tr style=\"text-align: right;\">\n",
       "      <th></th>\n",
       "      <th>precision</th>\n",
       "      <th>recall</th>\n",
       "      <th>f1-score</th>\n",
       "      <th>support</th>\n",
       "    </tr>\n",
       "  </thead>\n",
       "  <tbody>\n",
       "    <tr>\n",
       "      <th>0</th>\n",
       "      <td>0.000</td>\n",
       "      <td>0.000</td>\n",
       "      <td>0.000</td>\n",
       "      <td>1.0</td>\n",
       "    </tr>\n",
       "    <tr>\n",
       "      <th>1</th>\n",
       "      <td>0.750</td>\n",
       "      <td>0.750</td>\n",
       "      <td>0.750</td>\n",
       "      <td>4.0</td>\n",
       "    </tr>\n",
       "    <tr>\n",
       "      <th>accuracy</th>\n",
       "      <td>0.600</td>\n",
       "      <td>0.600</td>\n",
       "      <td>0.600</td>\n",
       "      <td>0.6</td>\n",
       "    </tr>\n",
       "    <tr>\n",
       "      <th>macro avg</th>\n",
       "      <td>0.375</td>\n",
       "      <td>0.375</td>\n",
       "      <td>0.375</td>\n",
       "      <td>5.0</td>\n",
       "    </tr>\n",
       "    <tr>\n",
       "      <th>weighted avg</th>\n",
       "      <td>0.600</td>\n",
       "      <td>0.600</td>\n",
       "      <td>0.600</td>\n",
       "      <td>5.0</td>\n",
       "    </tr>\n",
       "  </tbody>\n",
       "</table>\n",
       "</div>"
      ],
      "text/plain": [
       "              precision  recall  f1-score  support\n",
       "0                 0.000   0.000     0.000      1.0\n",
       "1                 0.750   0.750     0.750      4.0\n",
       "accuracy          0.600   0.600     0.600      0.6\n",
       "macro avg         0.375   0.375     0.375      5.0\n",
       "weighted avg      0.600   0.600     0.600      5.0"
      ]
     },
     "execution_count": 117,
     "metadata": {},
     "output_type": "execute_result"
    }
   ],
   "source": [
    "report = classification_report(y_test, y_pred, output_dict=True)\n",
    "df_report = pd.DataFrame(report).transpose()\n",
    "df_report"
   ]
  },
  {
   "cell_type": "code",
   "execution_count": 118,
   "metadata": {},
   "outputs": [],
   "source": [
    "df_report.to_csv('created_dataset.csv')"
   ]
  },
  {
   "cell_type": "code",
   "execution_count": 119,
   "metadata": {},
   "outputs": [
    {
     "data": {
      "text/plain": [
       "(2, 4)"
      ]
     },
     "execution_count": 119,
     "metadata": {},
     "output_type": "execute_result"
    }
   ],
   "source": [
    "'''(a)90 %, 5 Yrs experience, 8 written test score, 10 interview score\n",
    "(b) 75%, 8 Yrs experience, 7 written test score, 6 interview score'''\n",
    "\n",
    "x_predict=np.array([[90,5,18,10],[75,8,7,6]])\n",
    "x_predict=x_predict.reshape(2,-1)\n",
    "x_predict.shape"
   ]
  },
  {
   "cell_type": "code",
   "execution_count": 120,
   "metadata": {},
   "outputs": [
    {
     "name": "stdout",
     "output_type": "stream",
     "text": [
      "Results with Gaussian NB: \n",
      "Experience: 90 , Written score: 5 , Interview score: 18\n",
      "Selection:  0\n",
      "Experience: 75 , Written score: 8 , Interview score: 7\n",
      "Selection:  0\n"
     ]
    },
    {
     "name": "stderr",
     "output_type": "stream",
     "text": [
      "d:\\SOFTWARE INSTALLED\\PYTHON\\Lib\\site-packages\\sklearn\\base.py:464: UserWarning: X does not have valid feature names, but GaussianNB was fitted with feature names\n",
      "  warnings.warn(\n"
     ]
    }
   ],
   "source": [
    "pr=gnb.predict(x_predict)\n",
    "print('Results with Gaussian NB: ')\n",
    "for i in range(x_predict.shape[0]):\n",
    "    print('Experience:',x_predict[i][0],', Written score:',x_predict[i][1], ', Interview score:',x_predict[i][2])\n",
    "    print('Selection: ',pr[i])"
   ]
  }
 ],
 "metadata": {
  "kernelspec": {
   "display_name": "Python 3",
   "language": "python",
   "name": "python3"
  },
  "language_info": {
   "codemirror_mode": {
    "name": "ipython",
    "version": 3
   },
   "file_extension": ".py",
   "mimetype": "text/x-python",
   "name": "python",
   "nbconvert_exporter": "python",
   "pygments_lexer": "ipython3",
   "version": "3.11.4"
  },
  "orig_nbformat": 4
 },
 "nbformat": 4,
 "nbformat_minor": 2
}
